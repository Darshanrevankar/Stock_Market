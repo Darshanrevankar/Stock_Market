{
 "cells": [
  {
   "cell_type": "code",
   "execution_count": 1,
   "id": "a4d871c7",
   "metadata": {
    "tags": []
   },
   "outputs": [],
   "source": [
    "import pandas as pd\n",
    "import numpy as np\n",
    "import matplotlib.pyplot as plt\n",
    "from sklearn.preprocessing import MinMaxScaler\n",
    "from keras.models import Sequential\n",
    "from keras.layers import Dense, LSTM, Dropout"
   ]
  },
  {
   "cell_type": "code",
   "execution_count": 2,
   "id": "dafd4b11",
   "metadata": {
    "tags": []
   },
   "outputs": [
    {
     "data": {
      "text/html": [
       "<div>\n",
       "<style scoped>\n",
       "    .dataframe tbody tr th:only-of-type {\n",
       "        vertical-align: middle;\n",
       "    }\n",
       "\n",
       "    .dataframe tbody tr th {\n",
       "        vertical-align: top;\n",
       "    }\n",
       "\n",
       "    .dataframe thead th {\n",
       "        text-align: right;\n",
       "    }\n",
       "</style>\n",
       "<table border=\"1\" class=\"dataframe\">\n",
       "  <thead>\n",
       "    <tr style=\"text-align: right;\">\n",
       "      <th></th>\n",
       "      <th>Date</th>\n",
       "      <th>Open</th>\n",
       "      <th>High</th>\n",
       "      <th>Low</th>\n",
       "      <th>Close</th>\n",
       "      <th>Adj Close</th>\n",
       "      <th>Volume</th>\n",
       "    </tr>\n",
       "  </thead>\n",
       "  <tbody>\n",
       "    <tr>\n",
       "      <th>0</th>\n",
       "      <td>2021-10-28</td>\n",
       "      <td>149.820007</td>\n",
       "      <td>153.169998</td>\n",
       "      <td>149.720001</td>\n",
       "      <td>152.570007</td>\n",
       "      <td>150.825089</td>\n",
       "      <td>100077900</td>\n",
       "    </tr>\n",
       "    <tr>\n",
       "      <th>1</th>\n",
       "      <td>2021-10-29</td>\n",
       "      <td>147.220001</td>\n",
       "      <td>149.940002</td>\n",
       "      <td>146.410004</td>\n",
       "      <td>149.800003</td>\n",
       "      <td>148.086746</td>\n",
       "      <td>124953200</td>\n",
       "    </tr>\n",
       "    <tr>\n",
       "      <th>2</th>\n",
       "      <td>2021-11-01</td>\n",
       "      <td>148.990005</td>\n",
       "      <td>149.699997</td>\n",
       "      <td>147.800003</td>\n",
       "      <td>148.960007</td>\n",
       "      <td>147.256378</td>\n",
       "      <td>74588300</td>\n",
       "    </tr>\n",
       "    <tr>\n",
       "      <th>3</th>\n",
       "      <td>2021-11-02</td>\n",
       "      <td>148.660004</td>\n",
       "      <td>151.570007</td>\n",
       "      <td>148.649994</td>\n",
       "      <td>150.020004</td>\n",
       "      <td>148.304260</td>\n",
       "      <td>69122000</td>\n",
       "    </tr>\n",
       "    <tr>\n",
       "      <th>4</th>\n",
       "      <td>2021-11-03</td>\n",
       "      <td>150.389999</td>\n",
       "      <td>151.970001</td>\n",
       "      <td>149.820007</td>\n",
       "      <td>151.490005</td>\n",
       "      <td>149.757416</td>\n",
       "      <td>54511500</td>\n",
       "    </tr>\n",
       "  </tbody>\n",
       "</table>\n",
       "</div>"
      ],
      "text/plain": [
       "         Date        Open        High         Low       Close   Adj Close  \\\n",
       "0  2021-10-28  149.820007  153.169998  149.720001  152.570007  150.825089   \n",
       "1  2021-10-29  147.220001  149.940002  146.410004  149.800003  148.086746   \n",
       "2  2021-11-01  148.990005  149.699997  147.800003  148.960007  147.256378   \n",
       "3  2021-11-02  148.660004  151.570007  148.649994  150.020004  148.304260   \n",
       "4  2021-11-03  150.389999  151.970001  149.820007  151.490005  149.757416   \n",
       "\n",
       "      Volume  \n",
       "0  100077900  \n",
       "1  124953200  \n",
       "2   74588300  \n",
       "3   69122000  \n",
       "4   54511500  "
      ]
     },
     "execution_count": 2,
     "metadata": {},
     "output_type": "execute_result"
    }
   ],
   "source": [
    "data = pd.read_csv(r'TrainData.csv')\n",
    "data.head()"
   ]
  },
  {
   "cell_type": "code",
   "execution_count": 3,
   "id": "b0ad7b0d",
   "metadata": {
    "tags": []
   },
   "outputs": [
    {
     "name": "stdout",
     "output_type": "stream",
     "text": [
      "<class 'pandas.core.frame.DataFrame'>\n",
      "RangeIndex: 252 entries, 0 to 251\n",
      "Data columns (total 7 columns):\n",
      " #   Column     Non-Null Count  Dtype  \n",
      "---  ------     --------------  -----  \n",
      " 0   Date       252 non-null    object \n",
      " 1   Open       252 non-null    float64\n",
      " 2   High       252 non-null    float64\n",
      " 3   Low        252 non-null    float64\n",
      " 4   Close      252 non-null    float64\n",
      " 5   Adj Close  252 non-null    float64\n",
      " 6   Volume     252 non-null    int64  \n",
      "dtypes: float64(5), int64(1), object(1)\n",
      "memory usage: 13.9+ KB\n"
     ]
    }
   ],
   "source": [
    "data.info()"
   ]
  },
  {
   "cell_type": "code",
   "execution_count": 4,
   "id": "87c806c2",
   "metadata": {
    "tags": []
   },
   "outputs": [],
   "source": [
    "data[\"Close\"] = pd.to_numeric(data.Close, errors = 'coerce')\n",
    "data = data.dropna()\n",
    "trainData = data.iloc[:,4:5].values"
   ]
  },
  {
   "cell_type": "code",
   "execution_count": 5,
   "id": "fdf7fe0f",
   "metadata": {
    "tags": []
   },
   "outputs": [
    {
     "name": "stdout",
     "output_type": "stream",
     "text": [
      "<class 'pandas.core.frame.DataFrame'>\n",
      "RangeIndex: 252 entries, 0 to 251\n",
      "Data columns (total 7 columns):\n",
      " #   Column     Non-Null Count  Dtype  \n",
      "---  ------     --------------  -----  \n",
      " 0   Date       252 non-null    object \n",
      " 1   Open       252 non-null    float64\n",
      " 2   High       252 non-null    float64\n",
      " 3   Low        252 non-null    float64\n",
      " 4   Close      252 non-null    float64\n",
      " 5   Adj Close  252 non-null    float64\n",
      " 6   Volume     252 non-null    int64  \n",
      "dtypes: float64(5), int64(1), object(1)\n",
      "memory usage: 13.9+ KB\n"
     ]
    }
   ],
   "source": [
    "data.info()"
   ]
  },
  {
   "cell_type": "code",
   "execution_count": 6,
   "id": "b5477f3e",
   "metadata": {
    "tags": []
   },
   "outputs": [
    {
     "data": {
      "text/plain": [
       "(252, 1)"
      ]
     },
     "execution_count": 6,
     "metadata": {},
     "output_type": "execute_result"
    }
   ],
   "source": [
    "sc = MinMaxScaler(feature_range = (0,1))\n",
    "trainData = sc.fit_transform(trainData)\n",
    "trainData.shape"
   ]
  },
  {
   "cell_type": "code",
   "execution_count": 7,
   "id": "e0ee0dd4",
   "metadata": {
    "tags": []
   },
   "outputs": [],
   "source": [
    "X_train = []\n",
    "Y_train = []\n",
    "\n",
    "for i in range (20, 252):\n",
    "    X_train.append(trainData[i-20:i,0])\n",
    "    Y_train.append(trainData[i,0])\n",
    "    \n",
    "X_train, Y_train = np.array(X_train), np.array(Y_train)"
   ]
  },
  {
   "cell_type": "code",
   "execution_count": 8,
   "id": "13ca0a7b",
   "metadata": {
    "tags": []
   },
   "outputs": [
    {
     "data": {
      "text/plain": [
       "(232, 20, 1)"
      ]
     },
     "execution_count": 8,
     "metadata": {},
     "output_type": "execute_result"
    }
   ],
   "source": [
    "X_train = np.reshape(X_train,(X_train.shape[0], X_train.shape[1],1))\n",
    "X_train.shape"
   ]
  },
  {
   "cell_type": "code",
   "execution_count": 9,
   "id": "1c2e91d9",
   "metadata": {
    "tags": []
   },
   "outputs": [],
   "source": [
    "model = Sequential()\n",
    "\n",
    "model.add(LSTM(units = 100, return_sequences = True, input_shape = (X_train.shape[1],1)))\n",
    "model.add(Dropout(0.2))\n",
    "\n",
    "model.add(LSTM(units = 100, return_sequences = True))\n",
    "model.add(Dropout(0.2))\n",
    "\n",
    "model.add(LSTM(units = 100, return_sequences = True))\n",
    "model.add(Dropout(0.2))\n",
    "\n",
    "model.add(LSTM(units = 100, return_sequences = False))\n",
    "model.add(Dropout(0.2))\n",
    "\n",
    "model.add(Dense(units = 1))\n",
    "model.compile(optimizer = 'adam', loss = 'mean_squared_error')"
   ]
  },
  {
   "cell_type": "code",
   "execution_count": 10,
   "id": "93606673",
   "metadata": {
    "tags": []
   },
   "outputs": [
    {
     "name": "stdout",
     "output_type": "stream",
     "text": [
      "Epoch 1/20\n",
      "8/8 - 7s - loss: 0.1543 - 7s/epoch - 891ms/step\n",
      "Epoch 2/20\n",
      "8/8 - 0s - loss: 0.0580 - 231ms/epoch - 29ms/step\n",
      "Epoch 3/20\n",
      "8/8 - 0s - loss: 0.0442 - 230ms/epoch - 29ms/step\n",
      "Epoch 4/20\n",
      "8/8 - 0s - loss: 0.0419 - 230ms/epoch - 29ms/step\n",
      "Epoch 5/20\n",
      "8/8 - 0s - loss: 0.0423 - 275ms/epoch - 34ms/step\n",
      "Epoch 6/20\n",
      "8/8 - 0s - loss: 0.0338 - 226ms/epoch - 28ms/step\n",
      "Epoch 7/20\n",
      "8/8 - 0s - loss: 0.0350 - 228ms/epoch - 29ms/step\n",
      "Epoch 8/20\n",
      "8/8 - 0s - loss: 0.0311 - 231ms/epoch - 29ms/step\n",
      "Epoch 9/20\n",
      "8/8 - 0s - loss: 0.0361 - 232ms/epoch - 29ms/step\n",
      "Epoch 10/20\n",
      "8/8 - 0s - loss: 0.0290 - 231ms/epoch - 29ms/step\n",
      "Epoch 11/20\n",
      "8/8 - 0s - loss: 0.0273 - 237ms/epoch - 30ms/step\n",
      "Epoch 12/20\n",
      "8/8 - 0s - loss: 0.0260 - 274ms/epoch - 34ms/step\n",
      "Epoch 13/20\n",
      "8/8 - 0s - loss: 0.0250 - 247ms/epoch - 31ms/step\n",
      "Epoch 14/20\n",
      "8/8 - 0s - loss: 0.0264 - 243ms/epoch - 30ms/step\n",
      "Epoch 15/20\n",
      "8/8 - 0s - loss: 0.0260 - 232ms/epoch - 29ms/step\n",
      "Epoch 16/20\n",
      "8/8 - 0s - loss: 0.0212 - 230ms/epoch - 29ms/step\n",
      "Epoch 17/20\n",
      "8/8 - 0s - loss: 0.0215 - 233ms/epoch - 29ms/step\n",
      "Epoch 18/20\n",
      "8/8 - 0s - loss: 0.0200 - 235ms/epoch - 29ms/step\n",
      "Epoch 19/20\n",
      "8/8 - 0s - loss: 0.0199 - 228ms/epoch - 29ms/step\n",
      "Epoch 20/20\n",
      "8/8 - 0s - loss: 0.0177 - 252ms/epoch - 32ms/step\n"
     ]
    }
   ],
   "source": [
    "hist = model.fit(X_train, Y_train, epochs = 20, batch_size = 32, verbose = 2)"
   ]
  },
  {
   "cell_type": "code",
   "execution_count": 11,
   "id": "f0b8ecc1",
   "metadata": {
    "tags": []
   },
   "outputs": [
    {
     "data": {
      "image/png": "[encoded data removed]",
      "text/plain": [
       "<Figure size 640x480 with 1 Axes>"
      ]
     },
     "metadata": {},
     "output_type": "display_data"
    }
   ],
   "source": [
    "plt.plot(hist.history['loss'])\n",
    "plt.title('Training model loss')\n",
    "plt.ylabel('lose')\n",
    "plt.xlabel('epoch')\n",
    "plt.legend(['train'], loc='upper left')\n",
    "plt.show()"
   ]
  },
  {
   "cell_type": "code",
   "execution_count": 12,
   "id": "f482b2a0",
   "metadata": {
    "tags": []
   },
   "outputs": [
    {
     "data": {
      "text/plain": [
       "(231, 20, 1)"
      ]
     },
     "execution_count": 12,
     "metadata": {},
     "output_type": "execute_result"
    }
   ],
   "source": [
    "testData = pd.read_csv(r'TestData.csv')\n",
    "testData[\"Close\"] = pd.to_numeric(testData.Close, errors='coerce')\n",
    "testData = testData.dropna()\n",
    "testData = testData.iloc[:,4:5]\n",
    "Y_test = testData.iloc [60:,0:].values\n",
    "\n",
    "inputClosing = testData.iloc[:,0:].values\n",
    "inputClosing_scaled = sc.transform(inputClosing)\n",
    "inputClosing_scaled.shape\n",
    "X_test = []\n",
    "length = len(testData)\n",
    "timestep = 20\n",
    "for i in range(timestep, length):\n",
    "    X_test.append(inputClosing_scaled[i-timestep:i,0])\n",
    "X_test = np.array(X_test)\n",
    "X_test = np.reshape(X_test,(X_test.shape[0], X_test.shape[1],1))\n",
    "X_test.shape"
   ]
  },
  {
   "cell_type": "code",
   "execution_count": 13,
   "id": "882468d4",
   "metadata": {
    "tags": []
   },
   "outputs": [
    {
     "name": "stdout",
     "output_type": "stream",
     "text": [
      "8/8 [==============================] - 2s 11ms/step\n"
     ]
    },
    {
     "data": {
      "text/plain": [
       "array([[0.41268414],\n",
       "       [0.4262533 ],\n",
       "       [0.4277947 ],\n",
       "       [0.41963673],\n",
       "       [0.40485957],\n",
       "       [0.38724664],\n",
       "       [0.37112892],\n",
       "       [0.35677883],\n",
       "       [0.34296528],\n",
       "       [0.32771462],\n",
       "       [0.3165995 ],\n",
       "       [0.3068013 ],\n",
       "       [0.298392  ],\n",
       "       [0.29304975],\n",
       "       [0.28752387],\n",
       "       [0.28021058],\n",
       "       [0.26825964],\n",
       "       [0.2497867 ],\n",
       "       [0.22862193],\n",
       "       [0.20586988],\n",
       "       [0.18187994],\n",
       "       [0.1576505 ],\n",
       "       [0.13352238],\n",
       "       [0.11362275],\n",
       "       [0.09613775],\n",
       "       [0.08050211],\n",
       "       [0.06632753],\n",
       "       [0.05247927],\n",
       "       [0.04079068],\n",
       "       [0.03387036],\n",
       "       [0.03162549],\n",
       "       [0.03594308],\n",
       "       [0.04625814],\n",
       "       [0.06096259],\n",
       "       [0.07794531],\n",
       "       [0.09792306],\n",
       "       [0.11907315],\n",
       "       [0.14102384],\n",
       "       [0.1647228 ],\n",
       "       [0.18798527],\n",
       "       [0.21173775],\n",
       "       [0.23525618],\n",
       "       [0.2579609 ],\n",
       "       [0.2812977 ],\n",
       "       [0.30255404],\n",
       "       [0.31929338],\n",
       "       [0.33522323],\n",
       "       [0.35191673],\n",
       "       [0.37205252],\n",
       "       [0.39423507],\n",
       "       [0.41689533],\n",
       "       [0.43816647],\n",
       "       [0.45478624],\n",
       "       [0.46696627],\n",
       "       [0.474864  ],\n",
       "       [0.47924137],\n",
       "       [0.4812586 ],\n",
       "       [0.48176974],\n",
       "       [0.4793062 ],\n",
       "       [0.47232828],\n",
       "       [0.46062973],\n",
       "       [0.4454794 ],\n",
       "       [0.4280203 ],\n",
       "       [0.40831316],\n",
       "       [0.38881448],\n",
       "       [0.3703812 ],\n",
       "       [0.35677993],\n",
       "       [0.35014063],\n",
       "       [0.34942386],\n",
       "       [0.35666597],\n",
       "       [0.3679852 ],\n",
       "       [0.38092327],\n",
       "       [0.39359102],\n",
       "       [0.4059759 ],\n",
       "       [0.4166795 ],\n",
       "       [0.42776537],\n",
       "       [0.4385326 ],\n",
       "       [0.4501941 ],\n",
       "       [0.46295983],\n",
       "       [0.47808456],\n",
       "       [0.49464267],\n",
       "       [0.51093185],\n",
       "       [0.52668405],\n",
       "       [0.53942263],\n",
       "       [0.5486598 ],\n",
       "       [0.5563869 ],\n",
       "       [0.5656414 ],\n",
       "       [0.5769837 ],\n",
       "       [0.5893155 ],\n",
       "       [0.60254455],\n",
       "       [0.6142443 ],\n",
       "       [0.6224726 ],\n",
       "       [0.62639475],\n",
       "       [0.6246402 ],\n",
       "       [0.61889386],\n",
       "       [0.6124763 ],\n",
       "       [0.60641456],\n",
       "       [0.60344076],\n",
       "       [0.60448253],\n",
       "       [0.6084442 ],\n",
       "       [0.6145303 ],\n",
       "       [0.6210278 ],\n",
       "       [0.62510186],\n",
       "       [0.62611634],\n",
       "       [0.6265662 ],\n",
       "       [0.6280319 ],\n",
       "       [0.63216627],\n",
       "       [0.6385387 ],\n",
       "       [0.6455101 ],\n",
       "       [0.6508516 ],\n",
       "       [0.6570532 ],\n",
       "       [0.6647947 ],\n",
       "       [0.6745733 ],\n",
       "       [0.68634325],\n",
       "       [0.7007608 ],\n",
       "       [0.71426964],\n",
       "       [0.7252965 ],\n",
       "       [0.7329487 ],\n",
       "       [0.736934  ],\n",
       "       [0.7381798 ],\n",
       "       [0.73823863],\n",
       "       [0.73832303],\n",
       "       [0.7369988 ],\n",
       "       [0.7339573 ],\n",
       "       [0.73035973],\n",
       "       [0.726744  ],\n",
       "       [0.7250928 ],\n",
       "       [0.7266646 ],\n",
       "       [0.7330249 ],\n",
       "       [0.7446512 ],\n",
       "       [0.76202434],\n",
       "       [0.78021413],\n",
       "       [0.7958751 ],\n",
       "       [0.80886   ],\n",
       "       [0.81859535],\n",
       "       [0.8264169 ],\n",
       "       [0.83363676],\n",
       "       [0.8410438 ],\n",
       "       [0.8496885 ],\n",
       "       [0.8594644 ],\n",
       "       [0.8689046 ],\n",
       "       [0.8763867 ],\n",
       "       [0.8820611 ],\n",
       "       [0.88694465],\n",
       "       [0.8905243 ],\n",
       "       [0.8936905 ],\n",
       "       [0.897384  ],\n",
       "       [0.9020325 ],\n",
       "       [0.91036487],\n",
       "       [0.92199934],\n",
       "       [0.934919  ],\n",
       "       [0.9475737 ],\n",
       "       [0.9576158 ],\n",
       "       [0.96323204],\n",
       "       [0.96239495],\n",
       "       [0.9564225 ],\n",
       "       [0.94693184],\n",
       "       [0.93658775],\n",
       "       [0.9290293 ],\n",
       "       [0.92573434],\n",
       "       [0.92813563],\n",
       "       [0.9347339 ],\n",
       "       [0.94344413],\n",
       "       [0.95148   ],\n",
       "       [0.9578381 ],\n",
       "       [0.9632574 ],\n",
       "       [0.9668801 ],\n",
       "       [0.96967363],\n",
       "       [0.97337675],\n",
       "       [0.97716117],\n",
       "       [0.97951204],\n",
       "       [0.9786354 ],\n",
       "       [0.9688311 ],\n",
       "       [0.9462686 ],\n",
       "       [0.9120512 ],\n",
       "       [0.86951405],\n",
       "       [0.8230052 ],\n",
       "       [0.7773205 ],\n",
       "       [0.73792773],\n",
       "       [0.7068854 ],\n",
       "       [0.6853438 ],\n",
       "       [0.6713061 ],\n",
       "       [0.66344213],\n",
       "       [0.66121954],\n",
       "       [0.6642818 ],\n",
       "       [0.6737161 ],\n",
       "       [0.6872844 ],\n",
       "       [0.70430535],\n",
       "       [0.7232497 ],\n",
       "       [0.7445428 ],\n",
       "       [0.7695286 ],\n",
       "       [0.7989989 ],\n",
       "       [0.83078736],\n",
       "       [0.8646834 ],\n",
       "       [0.89522415],\n",
       "       [0.9139336 ],\n",
       "       [0.91731316],\n",
       "       [0.9061653 ],\n",
       "       [0.88297147],\n",
       "       [0.8499485 ],\n",
       "       [0.8121646 ],\n",
       "       [0.77380955],\n",
       "       [0.74052495],\n",
       "       [0.7163036 ],\n",
       "       [0.70138717],\n",
       "       [0.6942734 ],\n",
       "       [0.6911827 ],\n",
       "       [0.6926937 ],\n",
       "       [0.69564486],\n",
       "       [0.6974748 ],\n",
       "       [0.6963293 ],\n",
       "       [0.6915531 ],\n",
       "       [0.685727  ],\n",
       "       [0.68023276],\n",
       "       [0.6754698 ],\n",
       "       [0.6738279 ],\n",
       "       [0.6784232 ],\n",
       "       [0.69004333],\n",
       "       [0.70675385],\n",
       "       [0.7275658 ],\n",
       "       [0.75158423],\n",
       "       [0.7751062 ],\n",
       "       [0.7960765 ],\n",
       "       [0.8111469 ],\n",
       "       [0.8175041 ],\n",
       "       [0.8155691 ],\n",
       "       [0.8058384 ],\n",
       "       [0.7895872 ],\n",
       "       [0.76823753],\n",
       "       [0.74450374],\n",
       "       [0.7188755 ]], dtype=float32)"
      ]
     },
     "execution_count": 13,
     "metadata": {},
     "output_type": "execute_result"
    }
   ],
   "source": [
    "y_pred = model.predict(X_test)\n",
    "y_pred"
   ]
  },
  {
   "cell_type": "code",
   "execution_count": 14,
   "id": "48e81a81",
   "metadata": {
    "tags": []
   },
   "outputs": [],
   "source": [
    "predicted_price = sc.inverse_transform(y_pred)"
   ]
  },
  {
   "cell_type": "code",
   "execution_count": 15,
   "id": "189077af",
   "metadata": {
    "tags": []
   },
   "outputs": [
    {
     "data": {
      "image/png": "[encoded data removed]",
      "text/plain": [
       "<Figure size 640x480 with 1 Axes>"
      ]
     },
     "metadata": {},
     "output_type": "display_data"
    }
   ],
   "source": [
    "plt.plot(Y_test, color = 'red', label = 'Actual Stock Price')\n",
    "plt.plot(predicted_price, color = 'blue', label = 'Predicted Stock Price')\n",
    "plt.title('Apple Stock Price Prediction')\n",
    "plt.ylabel('Time')\n",
    "plt.xlabel('Stock Price')\n",
    "plt.legend()\n",
    "plt.show()"
   ]
  }
 ],
 "metadata": {
  "kernelspec": {
   "display_name": "Python 3 (ipykernel)",
   "language": "python",
   "name": "python3"
  },
  "language_info": {
   "codemirror_mode": {
    "name": "ipython",
    "version": 3
   },
   "file_extension": ".py",
   "mimetype": "text/x-python",
   "name": "python",
   "nbconvert_exporter": "python",
   "pygments_lexer": "ipython3",
   "version": "3.11.4"
  }
 },
 "nbformat": 4,
 "nbformat_minor": 5
}
